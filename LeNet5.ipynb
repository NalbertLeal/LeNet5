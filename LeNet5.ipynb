{
  "nbformat": 4,
  "nbformat_minor": 0,
  "metadata": {
    "colab": {
      "name": "LeNet5.ipynb",
      "provenance": [],
      "collapsed_sections": []
    },
    "kernelspec": {
      "name": "python3",
      "display_name": "Python 3"
    },
    "language_info": {
      "name": "python"
    },
    "accelerator": "GPU"
  },
  "cells": [
    {
      "cell_type": "code",
      "execution_count": 92,
      "metadata": {
        "id": "odUjADLmy65S"
      },
      "outputs": [],
      "source": [
        "import torch\n",
        "from torch import nn, optim\n",
        "from torch.utils.data import DataLoader\n",
        "from torchvision import datasets, transforms\n",
        "from torchvision.transforms.functional import resize\n",
        "from torch.nn.functional import softmax\n",
        "import matplotlib.pyplot as plt\n",
        "import pandas as pd\n",
        "import numpy as np"
      ]
    },
    {
      "cell_type": "code",
      "source": [
        "SEED = 42\n",
        "LR = 1e-3\n",
        "WEIGHT_DECAY = 1e-4\n",
        "BATCH_SIZE = 200\n",
        "NUMBER_EPOCHS = 20\n",
        "\n",
        "IMG_SIZE  = 28\n",
        "CLASSES = 10\n",
        "\n",
        "if torch.cuda.is_available():\n",
        "  DEVICE = torch.device('cuda')\n",
        "else:\n",
        "  DEVICE = torch.device('cpu')\n",
        "print(DEVICE)\n",
        "\n",
        "torch.manual_seed(SEED)"
      ],
      "metadata": {
        "colab": {
          "base_uri": "https://localhost:8080/"
        },
        "id": "nL_FgX_vzNeH",
        "outputId": "358d8eb1-95ea-4a43-cda6-3bd66782f42e"
      },
      "execution_count": 93,
      "outputs": [
        {
          "output_type": "stream",
          "name": "stdout",
          "text": [
            "cuda\n"
          ]
        },
        {
          "output_type": "execute_result",
          "data": {
            "text/plain": [
              "<torch._C.Generator at 0x7f050a137410>"
            ]
          },
          "metadata": {},
          "execution_count": 93
        }
      ]
    },
    {
      "cell_type": "code",
      "source": [
        "trns = transforms.Compose([\n",
        "  transforms.Resize((32, 32)),\n",
        "  transforms.ToTensor(),\n",
        "])"
      ],
      "metadata": {
        "id": "GI0sbGDk5o9P"
      },
      "execution_count": 94,
      "outputs": []
    },
    {
      "cell_type": "code",
      "source": [
        "train_set = datasets.MNIST('./train', train=True, download=True, transform=trns)\n",
        "test_set = datasets.MNIST('./test', train=False, download=True , transform=trns)"
      ],
      "metadata": {
        "id": "G8RyYo9Jzp8H"
      },
      "execution_count": 95,
      "outputs": []
    },
    {
      "cell_type": "code",
      "source": [
        "train_loader = DataLoader(\n",
        "    train_set,\n",
        "    batch_size=BATCH_SIZE,\n",
        "    shuffle=True,\n",
        ")\n",
        "\n",
        "test_loader = DataLoader(\n",
        "    test_set,\n",
        "    batch_size=BATCH_SIZE,\n",
        "    shuffle=False,\n",
        ")"
      ],
      "metadata": {
        "id": "6-5ccNP_9Ia9"
      },
      "execution_count": 96,
      "outputs": []
    },
    {
      "cell_type": "code",
      "source": [
        "class LeNet5(nn.Module):\n",
        "  def __init__(self):\n",
        "    super(LeNet5, self).__init__()\n",
        "\n",
        "    self.layers = nn.Sequential(\n",
        "        nn.Conv2d(in_channels=1, out_channels=6, kernel_size=(5, 5)),\n",
        "        nn.ReLU(),\n",
        "        nn.MaxPool2d((2, 2)),\n",
        "        nn.Conv2d(in_channels=6, out_channels=16, kernel_size=(5, 5)),\n",
        "        nn.ReLU(),\n",
        "        nn.MaxPool2d((2, 2)),\n",
        "        nn.Conv2d(in_channels=16, out_channels=120, kernel_size=(5, 5)),\n",
        "        nn.ReLU(),\n",
        "        nn.Flatten(),\n",
        "        nn.Linear(in_features=120, out_features=84),\n",
        "        nn.ReLU(),\n",
        "        nn.Linear(in_features=84, out_features=10),\n",
        "    )\n",
        "\n",
        "  def forward(self, X):\n",
        "    return self.layers(X)"
      ],
      "metadata": {
        "id": "trq80O2v6RE-"
      },
      "execution_count": 97,
      "outputs": []
    },
    {
      "cell_type": "code",
      "source": [
        "net = LeNet5().to(DEVICE)"
      ],
      "metadata": {
        "id": "2Px2d_XM9G8u"
      },
      "execution_count": 98,
      "outputs": []
    },
    {
      "cell_type": "code",
      "source": [
        "criterion = nn.CrossEntropyLoss().to(DEVICE)\n",
        "optimizer = optim.Adam(net.parameters(), lr=LR, weight_decay=WEIGHT_DECAY)"
      ],
      "metadata": {
        "id": "XOyJJSQA-cZl"
      },
      "execution_count": 99,
      "outputs": []
    },
    {
      "cell_type": "code",
      "source": [
        "def train_nn(train_loader, net, criterion, optimizer):\n",
        "  val_train = []\n",
        "  net.train()\n",
        "  for batch in train_loader:\n",
        "    optimizer.zero_grad()\n",
        "    data, label = batch\n",
        "\n",
        "    data = data.to(DEVICE)\n",
        "    label = label.to(DEVICE)\n",
        "\n",
        "    predicted = net(data)\n",
        "    loss = criterion(predicted, label)\n",
        "    val_train.append(loss.cpu().data)\n",
        "\n",
        "    loss.backward()\n",
        "    optimizer.step()\n",
        "  return np.asarray(val_train)"
      ],
      "metadata": {
        "id": "ftYSOQW6-1y_"
      },
      "execution_count": 100,
      "outputs": []
    },
    {
      "cell_type": "code",
      "source": [
        "def validation_nn(test_loader, net, criterion, optimizer):\n",
        "  val_loss = []\n",
        "  net.eval()\n",
        "  with torch.no_grad():\n",
        "    for batch in train_loader:\n",
        "      data, label = batch\n",
        "\n",
        "      data = data.to(DEVICE)\n",
        "      label = label.to(DEVICE)\n",
        "\n",
        "      predicted = net(data)\n",
        "      loss = criterion(predicted, label)\n",
        "      val_loss.append(loss.cpu().data)\n",
        "  return np.asarray(val_loss)"
      ],
      "metadata": {
        "id": "TY_SuzwBLv2j"
      },
      "execution_count": 101,
      "outputs": []
    },
    {
      "cell_type": "code",
      "source": [
        "def run_train(train_loader, test_loader, net, criterion, optimizer, epochs):\n",
        "  loss = []\n",
        "  for epoch in range(epochs):\n",
        "    train_loss = train_nn(train_loader, net, criterion, optimizer)\n",
        "    val_loss = validation_nn(test_loader, net, criterion, optimizer)\n",
        "    loss.append((train_loss, val_loss))\n",
        "    print(f'EPOCH {epoch} -> Loss: {train_loss.mean()} (train) | {val_loss.mean()} (val)')\n",
        "  return np.asarray(loss)"
      ],
      "metadata": {
        "id": "6SJQjzk1Lx0u"
      },
      "execution_count": 102,
      "outputs": []
    },
    {
      "cell_type": "code",
      "source": [
        "loss = run_train(train_loader, test_loader, net, criterion, optimizer, 7)"
      ],
      "metadata": {
        "colab": {
          "base_uri": "https://localhost:8080/"
        },
        "id": "PUZlmnvZLzWP",
        "outputId": "4011aa8c-3fef-4e11-b78a-d149e6039cc5"
      },
      "execution_count": 103,
      "outputs": [
        {
          "output_type": "stream",
          "name": "stdout",
          "text": [
            "EPOCH 0 -> Loss: 0.4592384994029999 (train) | 0.13747474551200867 (val)\n",
            "EPOCH 1 -> Loss: 0.11084388941526413 (train) | 0.08169329166412354 (val)\n",
            "EPOCH 2 -> Loss: 0.07706055045127869 (train) | 0.0631556287407875 (val)\n",
            "EPOCH 3 -> Loss: 0.061375975608825684 (train) | 0.05146330967545509 (val)\n",
            "EPOCH 4 -> Loss: 0.04943333938717842 (train) | 0.04020373150706291 (val)\n",
            "EPOCH 5 -> Loss: 0.042449310421943665 (train) | 0.03433410823345184 (val)\n",
            "EPOCH 6 -> Loss: 0.037407148629426956 (train) | 0.030309878289699554 (val)\n"
          ]
        }
      ]
    },
    {
      "cell_type": "code",
      "source": [
        "treated_loss  = [(t.mean(), v.mean()) for (t, v) in loss]"
      ],
      "metadata": {
        "id": "x9b-Rbw8Rxgj"
      },
      "execution_count": 104,
      "outputs": []
    },
    {
      "cell_type": "code",
      "source": [
        "plt.plot(treated_loss)"
      ],
      "metadata": {
        "colab": {
          "base_uri": "https://localhost:8080/",
          "height": 301
        },
        "id": "cNIdoB7baD9I",
        "outputId": "2dc9f063-4847-4ef2-a4c4-701c38f8facb"
      },
      "execution_count": 105,
      "outputs": [
        {
          "output_type": "execute_result",
          "data": {
            "text/plain": [
              "[<matplotlib.lines.Line2D at 0x7f04f19841d0>,\n",
              " <matplotlib.lines.Line2D at 0x7f04f19843d0>]"
            ]
          },
          "metadata": {},
          "execution_count": 105
        },
        {
          "output_type": "display_data",
          "data": {
            "image/png": "[encoded data removed]",
            "text/plain": [
              "<Figure size 432x288 with 1 Axes>"
            ]
          },
          "metadata": {
            "needs_background": "light"
          }
        }
      ]
    },
    {
      "cell_type": "code",
      "source": [
        "def run_net(net, img: torch.tensor, DEVICE: torch.device):\n",
        "  img = img.unsqueeze(0)\n",
        "  img = resize(img, size=(32, 32))\n",
        "  img = img.unsqueeze(0).to(dtype=torch.float32).to(DEVICE)\n",
        "  pred = net(img)\n",
        "  return torch.argmax(softmax(pred, dim=1)).cpu().data"
      ],
      "metadata": {
        "id": "a8-KFmvkay94"
      },
      "execution_count": 135,
      "outputs": []
    },
    {
      "cell_type": "code",
      "source": [
        "img = test_set.data[0]\n",
        "run_net(net, img, DEVICE)"
      ],
      "metadata": {
        "colab": {
          "base_uri": "https://localhost:8080/"
        },
        "id": "fj79MQ_jQIIx",
        "outputId": "8bed8264-f3f7-4368-d7a5-df248e7ed1cd"
      },
      "execution_count": 136,
      "outputs": [
        {
          "output_type": "execute_result",
          "data": {
            "text/plain": [
              "tensor(7)"
            ]
          },
          "metadata": {},
          "execution_count": 136
        }
      ]
    },
    {
      "cell_type": "code",
      "source": [
        "test_set.targets[0]"
      ],
      "metadata": {
        "colab": {
          "base_uri": "https://localhost:8080/"
        },
        "id": "RrD33JRuRMF8",
        "outputId": "2d6cbc7f-b1fd-4b3b-83a1-f2a5c197957a"
      },
      "execution_count": 137,
      "outputs": [
        {
          "output_type": "execute_result",
          "data": {
            "text/plain": [
              "tensor(7)"
            ]
          },
          "metadata": {},
          "execution_count": 137
        }
      ]
    }
  ]
}